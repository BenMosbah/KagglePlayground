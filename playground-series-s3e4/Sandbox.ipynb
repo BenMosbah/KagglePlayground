{
 "cells": [
  {
   "cell_type": "code",
   "execution_count": 2,
   "id": "736663eb",
   "metadata": {},
   "outputs": [],
   "source": [
    "import pandas as pd \n",
    "import numpy as np \n",
    "import os \n",
    "import matplotlib.pyplot as plt \n",
    "from sklearn.model_selection import train_test_split\n",
    "import matplotlib.pyplot as plt\n",
    "from sklearn.model_selection import StratifiedKFold, train_test_split\n",
    "from sklearn.metrics import confusion_matrix, roc_curve, roc_auc_score\n",
    "from sklearn.model_selection import GridSearchCV\n",
    "import xgboost as xgb\n",
    "import lightgbm as lgbm\n",
    "import catboost\n",
    "from sklearn.metrics import mean_squared_error"
   ]
  },
  {
   "cell_type": "markdown",
   "id": "48d470c9",
   "metadata": {},
   "source": [
    "## Reading data. No missing data and no categorical data. All good it seems."
   ]
  },
  {
   "cell_type": "code",
   "execution_count": 3,
   "id": "3b765853",
   "metadata": {},
   "outputs": [],
   "source": [
    "train = pd.read_csv('train.csv')\n",
    "train.drop('id',axis=1,inplace=True)"
   ]
  },
  {
   "cell_type": "code",
   "execution_count": 4,
   "id": "d5d02a9c",
   "metadata": {},
   "outputs": [
    {
     "data": {
      "text/html": [
       "<div>\n",
       "<style scoped>\n",
       "    .dataframe tbody tr th:only-of-type {\n",
       "        vertical-align: middle;\n",
       "    }\n",
       "\n",
       "    .dataframe tbody tr th {\n",
       "        vertical-align: top;\n",
       "    }\n",
       "\n",
       "    .dataframe thead th {\n",
       "        text-align: right;\n",
       "    }\n",
       "</style>\n",
       "<table border=\"1\" class=\"dataframe\">\n",
       "  <thead>\n",
       "    <tr style=\"text-align: right;\">\n",
       "      <th></th>\n",
       "      <th>Time</th>\n",
       "      <th>V1</th>\n",
       "      <th>V2</th>\n",
       "      <th>V3</th>\n",
       "      <th>V4</th>\n",
       "      <th>V5</th>\n",
       "      <th>V6</th>\n",
       "      <th>V7</th>\n",
       "      <th>V8</th>\n",
       "      <th>V9</th>\n",
       "      <th>...</th>\n",
       "      <th>V21</th>\n",
       "      <th>V22</th>\n",
       "      <th>V23</th>\n",
       "      <th>V24</th>\n",
       "      <th>V25</th>\n",
       "      <th>V26</th>\n",
       "      <th>V27</th>\n",
       "      <th>V28</th>\n",
       "      <th>Amount</th>\n",
       "      <th>Class</th>\n",
       "    </tr>\n",
       "  </thead>\n",
       "  <tbody>\n",
       "    <tr>\n",
       "      <th>0</th>\n",
       "      <td>0.0</td>\n",
       "      <td>2.074329</td>\n",
       "      <td>-0.129425</td>\n",
       "      <td>-1.137418</td>\n",
       "      <td>0.412846</td>\n",
       "      <td>-0.192638</td>\n",
       "      <td>-1.210144</td>\n",
       "      <td>0.110697</td>\n",
       "      <td>-0.263477</td>\n",
       "      <td>0.742144</td>\n",
       "      <td>...</td>\n",
       "      <td>-0.334701</td>\n",
       "      <td>-0.887840</td>\n",
       "      <td>0.336701</td>\n",
       "      <td>-0.110835</td>\n",
       "      <td>-0.291459</td>\n",
       "      <td>0.207733</td>\n",
       "      <td>-0.076576</td>\n",
       "      <td>-0.059577</td>\n",
       "      <td>1.98</td>\n",
       "      <td>0</td>\n",
       "    </tr>\n",
       "    <tr>\n",
       "      <th>1</th>\n",
       "      <td>0.0</td>\n",
       "      <td>1.998827</td>\n",
       "      <td>-1.250891</td>\n",
       "      <td>-0.520969</td>\n",
       "      <td>-0.894539</td>\n",
       "      <td>-1.122528</td>\n",
       "      <td>-0.270866</td>\n",
       "      <td>-1.029289</td>\n",
       "      <td>0.050198</td>\n",
       "      <td>-0.109948</td>\n",
       "      <td>...</td>\n",
       "      <td>0.054848</td>\n",
       "      <td>-0.038367</td>\n",
       "      <td>0.133518</td>\n",
       "      <td>-0.461928</td>\n",
       "      <td>-0.465491</td>\n",
       "      <td>-0.464655</td>\n",
       "      <td>-0.009413</td>\n",
       "      <td>-0.038238</td>\n",
       "      <td>84.00</td>\n",
       "      <td>0</td>\n",
       "    </tr>\n",
       "    <tr>\n",
       "      <th>2</th>\n",
       "      <td>0.0</td>\n",
       "      <td>0.091535</td>\n",
       "      <td>1.004517</td>\n",
       "      <td>-0.223445</td>\n",
       "      <td>-0.435249</td>\n",
       "      <td>0.667548</td>\n",
       "      <td>-0.988351</td>\n",
       "      <td>0.948146</td>\n",
       "      <td>-0.084789</td>\n",
       "      <td>-0.042027</td>\n",
       "      <td>...</td>\n",
       "      <td>-0.326725</td>\n",
       "      <td>-0.803736</td>\n",
       "      <td>0.154495</td>\n",
       "      <td>0.951233</td>\n",
       "      <td>-0.506919</td>\n",
       "      <td>0.085046</td>\n",
       "      <td>0.224458</td>\n",
       "      <td>0.087356</td>\n",
       "      <td>2.69</td>\n",
       "      <td>0</td>\n",
       "    </tr>\n",
       "    <tr>\n",
       "      <th>3</th>\n",
       "      <td>0.0</td>\n",
       "      <td>1.979649</td>\n",
       "      <td>-0.184949</td>\n",
       "      <td>-1.064206</td>\n",
       "      <td>0.120125</td>\n",
       "      <td>-0.215238</td>\n",
       "      <td>-0.648829</td>\n",
       "      <td>-0.087826</td>\n",
       "      <td>-0.035367</td>\n",
       "      <td>0.885838</td>\n",
       "      <td>...</td>\n",
       "      <td>-0.095514</td>\n",
       "      <td>-0.079792</td>\n",
       "      <td>0.167701</td>\n",
       "      <td>-0.042939</td>\n",
       "      <td>0.000799</td>\n",
       "      <td>-0.096148</td>\n",
       "      <td>-0.057780</td>\n",
       "      <td>-0.073839</td>\n",
       "      <td>1.00</td>\n",
       "      <td>0</td>\n",
       "    </tr>\n",
       "    <tr>\n",
       "      <th>4</th>\n",
       "      <td>0.0</td>\n",
       "      <td>1.025898</td>\n",
       "      <td>-0.171827</td>\n",
       "      <td>1.203717</td>\n",
       "      <td>1.243900</td>\n",
       "      <td>-0.636572</td>\n",
       "      <td>1.099074</td>\n",
       "      <td>-0.938651</td>\n",
       "      <td>0.569239</td>\n",
       "      <td>0.692665</td>\n",
       "      <td>...</td>\n",
       "      <td>0.099157</td>\n",
       "      <td>0.608908</td>\n",
       "      <td>0.027901</td>\n",
       "      <td>-0.262813</td>\n",
       "      <td>0.257834</td>\n",
       "      <td>-0.252829</td>\n",
       "      <td>0.108338</td>\n",
       "      <td>0.021051</td>\n",
       "      <td>1.00</td>\n",
       "      <td>0</td>\n",
       "    </tr>\n",
       "  </tbody>\n",
       "</table>\n",
       "<p>5 rows × 31 columns</p>\n",
       "</div>"
      ],
      "text/plain": [
       "   Time        V1        V2        V3        V4        V5        V6        V7  \\\n",
       "0   0.0  2.074329 -0.129425 -1.137418  0.412846 -0.192638 -1.210144  0.110697   \n",
       "1   0.0  1.998827 -1.250891 -0.520969 -0.894539 -1.122528 -0.270866 -1.029289   \n",
       "2   0.0  0.091535  1.004517 -0.223445 -0.435249  0.667548 -0.988351  0.948146   \n",
       "3   0.0  1.979649 -0.184949 -1.064206  0.120125 -0.215238 -0.648829 -0.087826   \n",
       "4   0.0  1.025898 -0.171827  1.203717  1.243900 -0.636572  1.099074 -0.938651   \n",
       "\n",
       "         V8        V9  ...       V21       V22       V23       V24       V25  \\\n",
       "0 -0.263477  0.742144  ... -0.334701 -0.887840  0.336701 -0.110835 -0.291459   \n",
       "1  0.050198 -0.109948  ...  0.054848 -0.038367  0.133518 -0.461928 -0.465491   \n",
       "2 -0.084789 -0.042027  ... -0.326725 -0.803736  0.154495  0.951233 -0.506919   \n",
       "3 -0.035367  0.885838  ... -0.095514 -0.079792  0.167701 -0.042939  0.000799   \n",
       "4  0.569239  0.692665  ...  0.099157  0.608908  0.027901 -0.262813  0.257834   \n",
       "\n",
       "        V26       V27       V28  Amount  Class  \n",
       "0  0.207733 -0.076576 -0.059577    1.98      0  \n",
       "1 -0.464655 -0.009413 -0.038238   84.00      0  \n",
       "2  0.085046  0.224458  0.087356    2.69      0  \n",
       "3 -0.096148 -0.057780 -0.073839    1.00      0  \n",
       "4 -0.252829  0.108338  0.021051    1.00      0  \n",
       "\n",
       "[5 rows x 31 columns]"
      ]
     },
     "execution_count": 4,
     "metadata": {},
     "output_type": "execute_result"
    }
   ],
   "source": [
    "train.head()"
   ]
  },
  {
   "cell_type": "markdown",
   "id": "8d227065",
   "metadata": {},
   "source": [
    "## Also getting original dataset"
   ]
  },
  {
   "cell_type": "code",
   "execution_count": 5,
   "id": "29ceae51",
   "metadata": {},
   "outputs": [],
   "source": [
    "og_dataset = pd.read_csv('creditcard.csv')"
   ]
  },
  {
   "cell_type": "code",
   "execution_count": 6,
   "id": "cafa9a3f",
   "metadata": {},
   "outputs": [],
   "source": [
    "# let's try to just add the examples in og_dataset that have Class==1 ==> terrible idea\n",
    "#og_dataset_class_is_1 = og_dataset[og_dataset.Class==1].copy()\n",
    "#train = pd.concat([train,og_dataset_class_is_1])"
   ]
  },
  {
   "cell_type": "code",
   "execution_count": 7,
   "id": "448e2a24",
   "metadata": {},
   "outputs": [],
   "source": [
    "train = pd.concat([train,og_dataset])"
   ]
  },
  {
   "cell_type": "markdown",
   "id": "f983968e",
   "metadata": {},
   "source": [
    "## 0.2% (469) of the labels are 1s... extremely unbalanced dataset"
   ]
  },
  {
   "cell_type": "code",
   "execution_count": 8,
   "id": "38e14414",
   "metadata": {},
   "outputs": [
    {
     "data": {
      "text/plain": [
       "Time      float64\n",
       "V1        float64\n",
       "V2        float64\n",
       "V3        float64\n",
       "V4        float64\n",
       "V5        float64\n",
       "V6        float64\n",
       "V7        float64\n",
       "V8        float64\n",
       "V9        float64\n",
       "V10       float64\n",
       "V11       float64\n",
       "V12       float64\n",
       "V13       float64\n",
       "V14       float64\n",
       "V15       float64\n",
       "V16       float64\n",
       "V17       float64\n",
       "V18       float64\n",
       "V19       float64\n",
       "V20       float64\n",
       "V21       float64\n",
       "V22       float64\n",
       "V23       float64\n",
       "V24       float64\n",
       "V25       float64\n",
       "V26       float64\n",
       "V27       float64\n",
       "V28       float64\n",
       "Amount    float64\n",
       "Class       int64\n",
       "dtype: object"
      ]
     },
     "execution_count": 8,
     "metadata": {},
     "output_type": "execute_result"
    }
   ],
   "source": [
    "train.dtypes"
   ]
  },
  {
   "cell_type": "markdown",
   "id": "00211db6",
   "metadata": {},
   "source": [
    "## Quick check of features to see if there is any of them that looks particularly weird"
   ]
  },
  {
   "cell_type": "code",
   "execution_count": 9,
   "id": "1463108b",
   "metadata": {},
   "outputs": [
    {
     "data": {
      "image/png": "[encoded data removed]",
      "text/plain": [
       "<Figure size 1440x720 with 36 Axes>"
      ]
     },
     "metadata": {
      "needs_background": "light"
     },
     "output_type": "display_data"
    }
   ],
   "source": [
    "train.hist(bins=30, figsize=(20, 10))\n",
    "plt.show()"
   ]
  },
  {
   "cell_type": "code",
   "execution_count": 10,
   "id": "b0b670a3",
   "metadata": {},
   "outputs": [],
   "source": [
    "# defining features and target \n",
    "features = [c for c in train if c not in ['Class']]\n",
    "target = 'Class'"
   ]
  },
  {
   "cell_type": "code",
   "execution_count": 11,
   "id": "30d984d0",
   "metadata": {},
   "outputs": [
    {
     "data": {
      "text/plain": [
       "503936"
      ]
     },
     "execution_count": 11,
     "metadata": {},
     "output_type": "execute_result"
    }
   ],
   "source": [
    "len(train)"
   ]
  },
  {
   "cell_type": "code",
   "execution_count": 12,
   "id": "671ffa0c",
   "metadata": {},
   "outputs": [],
   "source": [
    "# Getting rid of outliers\n",
    "from scipy import stats\n",
    "#train = train[(np.abs(stats.zscore(train[features])) < 5).all(axis=1)].copy()"
   ]
  },
  {
   "cell_type": "code",
   "execution_count": 13,
   "id": "18e8eac1",
   "metadata": {},
   "outputs": [
    {
     "data": {
      "text/plain": [
       "503936"
      ]
     },
     "execution_count": 13,
     "metadata": {},
     "output_type": "execute_result"
    }
   ],
   "source": [
    "len(train)"
   ]
  },
  {
   "cell_type": "code",
   "execution_count": 14,
   "id": "8855481d",
   "metadata": {},
   "outputs": [],
   "source": [
    "# splitting train and validation \n",
    "# Splitting training set - startified to get a good repartition of Attrition everywhere \n",
    "x = train[features]\n",
    "y = train[target]\n",
    "x_train, x_validation, y_train, y_validation = train_test_split(x, y, test_size=0.05, stratify = y)"
   ]
  },
  {
   "cell_type": "markdown",
   "id": "c3423635",
   "metadata": {},
   "source": [
    "## Training a simple XGBoost"
   ]
  },
  {
   "cell_type": "code",
   "execution_count": 214,
   "id": "41d4a50a",
   "metadata": {},
   "outputs": [
    {
     "name": "stdout",
     "output_type": "stream",
     "text": [
      "[0]\tvalidation_0-auc:0.73827\tvalidation_1-auc:0.74517\n",
      "[200]\tvalidation_0-auc:0.85107\tvalidation_1-auc:0.82708\n",
      "[269]\tvalidation_0-auc:0.85124\tvalidation_1-auc:0.82251\n"
     ]
    },
    {
     "data": {
      "text/html": [
       "<style>#sk-container-id-21 {color: black;background-color: white;}#sk-container-id-21 pre{padding: 0;}#sk-container-id-21 div.sk-toggleable {background-color: white;}#sk-container-id-21 label.sk-toggleable__label {cursor: pointer;display: block;width: 100%;margin-bottom: 0;padding: 0.3em;box-sizing: border-box;text-align: center;}#sk-container-id-21 label.sk-toggleable__label-arrow:before {content: \"▸\";float: left;margin-right: 0.25em;color: #696969;}#sk-container-id-21 label.sk-toggleable__label-arrow:hover:before {color: black;}#sk-container-id-21 div.sk-estimator:hover label.sk-toggleable__label-arrow:before {color: black;}#sk-container-id-21 div.sk-toggleable__content {max-height: 0;max-width: 0;overflow: hidden;text-align: left;background-color: #f0f8ff;}#sk-container-id-21 div.sk-toggleable__content pre {margin: 0.2em;color: black;border-radius: 0.25em;background-color: #f0f8ff;}#sk-container-id-21 input.sk-toggleable__control:checked~div.sk-toggleable__content {max-height: 200px;max-width: 100%;overflow: auto;}#sk-container-id-21 input.sk-toggleable__control:checked~label.sk-toggleable__label-arrow:before {content: \"▾\";}#sk-container-id-21 div.sk-estimator input.sk-toggleable__control:checked~label.sk-toggleable__label {background-color: #d4ebff;}#sk-container-id-21 div.sk-label input.sk-toggleable__control:checked~label.sk-toggleable__label {background-color: #d4ebff;}#sk-container-id-21 input.sk-hidden--visually {border: 0;clip: rect(1px 1px 1px 1px);clip: rect(1px, 1px, 1px, 1px);height: 1px;margin: -1px;overflow: hidden;padding: 0;position: absolute;width: 1px;}#sk-container-id-21 div.sk-estimator {font-family: monospace;background-color: #f0f8ff;border: 1px dotted black;border-radius: 0.25em;box-sizing: border-box;margin-bottom: 0.5em;}#sk-container-id-21 div.sk-estimator:hover {background-color: #d4ebff;}#sk-container-id-21 div.sk-parallel-item::after {content: \"\";width: 100%;border-bottom: 1px solid gray;flex-grow: 1;}#sk-container-id-21 div.sk-label:hover label.sk-toggleable__label {background-color: #d4ebff;}#sk-container-id-21 div.sk-serial::before {content: \"\";position: absolute;border-left: 1px solid gray;box-sizing: border-box;top: 0;bottom: 0;left: 50%;z-index: 0;}#sk-container-id-21 div.sk-serial {display: flex;flex-direction: column;align-items: center;background-color: white;padding-right: 0.2em;padding-left: 0.2em;position: relative;}#sk-container-id-21 div.sk-item {position: relative;z-index: 1;}#sk-container-id-21 div.sk-parallel {display: flex;align-items: stretch;justify-content: center;background-color: white;position: relative;}#sk-container-id-21 div.sk-item::before, #sk-container-id-21 div.sk-parallel-item::before {content: \"\";position: absolute;border-left: 1px solid gray;box-sizing: border-box;top: 0;bottom: 0;left: 50%;z-index: -1;}#sk-container-id-21 div.sk-parallel-item {display: flex;flex-direction: column;z-index: 1;position: relative;background-color: white;}#sk-container-id-21 div.sk-parallel-item:first-child::after {align-self: flex-end;width: 50%;}#sk-container-id-21 div.sk-parallel-item:last-child::after {align-self: flex-start;width: 50%;}#sk-container-id-21 div.sk-parallel-item:only-child::after {width: 0;}#sk-container-id-21 div.sk-dashed-wrapped {border: 1px dashed gray;margin: 0 0.4em 0.5em 0.4em;box-sizing: border-box;padding-bottom: 0.4em;background-color: white;}#sk-container-id-21 div.sk-label label {font-family: monospace;font-weight: bold;display: inline-block;line-height: 1.2em;}#sk-container-id-21 div.sk-label-container {text-align: center;}#sk-container-id-21 div.sk-container {/* jupyter's `normalize.less` sets `[hidden] { display: none; }` but bootstrap.min.css set `[hidden] { display: none !important; }` so we also need the `!important` here to be able to override the default hidden behavior on the sphinx rendered scikit-learn.org. See: https://github.com/scikit-learn/scikit-learn/issues/21755 */display: inline-block !important;position: relative;}#sk-container-id-21 div.sk-text-repr-fallback {display: none;}</style><div id=\"sk-container-id-21\" class=\"sk-top-container\"><div class=\"sk-text-repr-fallback\"><pre>XGBClassifier(base_score=0.5, booster=&#x27;gbtree&#x27;, callbacks=None,\n",
       "              colsample_bylevel=1, colsample_bynode=1, colsample_bytree=0.5,\n",
       "              early_stopping_rounds=70, enable_categorical=False,\n",
       "              eval_metric=&#x27;auc&#x27;, gamma=0, gpu_id=-1, grow_policy=&#x27;depthwise&#x27;,\n",
       "              importance_type=None, interaction_constraints=&#x27;&#x27;,\n",
       "              learning_rate=0.0075, max_bin=4096, max_cat_to_onehot=4,\n",
       "              max_delta_step=0, max_depth=6, max_leaves=17, min_child_weight=1,\n",
       "              missing=nan, monotone_constraints=&#x27;()&#x27;, n_estimators=1000,\n",
       "              n_jobs=2, num_parallel_tree=1, objective=&#x27;reg:pseudohubererror&#x27;,\n",
       "              predictor=&#x27;auto&#x27;, random_state=0, reg_alpha=0.2, ...)</pre><b>In a Jupyter environment, please rerun this cell to show the HTML representation or trust the notebook. <br />On GitHub, the HTML representation is unable to render, please try loading this page with nbviewer.org.</b></div><div class=\"sk-container\" hidden><div class=\"sk-item\"><div class=\"sk-estimator sk-toggleable\"><input class=\"sk-toggleable__control sk-hidden--visually\" id=\"sk-estimator-id-33\" type=\"checkbox\" checked><label for=\"sk-estimator-id-33\" class=\"sk-toggleable__label sk-toggleable__label-arrow\">XGBClassifier</label><div class=\"sk-toggleable__content\"><pre>XGBClassifier(base_score=0.5, booster=&#x27;gbtree&#x27;, callbacks=None,\n",
       "              colsample_bylevel=1, colsample_bynode=1, colsample_bytree=0.5,\n",
       "              early_stopping_rounds=70, enable_categorical=False,\n",
       "              eval_metric=&#x27;auc&#x27;, gamma=0, gpu_id=-1, grow_policy=&#x27;depthwise&#x27;,\n",
       "              importance_type=None, interaction_constraints=&#x27;&#x27;,\n",
       "              learning_rate=0.0075, max_bin=4096, max_cat_to_onehot=4,\n",
       "              max_delta_step=0, max_depth=6, max_leaves=17, min_child_weight=1,\n",
       "              missing=nan, monotone_constraints=&#x27;()&#x27;, n_estimators=1000,\n",
       "              n_jobs=2, num_parallel_tree=1, objective=&#x27;reg:pseudohubererror&#x27;,\n",
       "              predictor=&#x27;auto&#x27;, random_state=0, reg_alpha=0.2, ...)</pre></div></div></div></div></div>"
      ],
      "text/plain": [
       "XGBClassifier(base_score=0.5, booster='gbtree', callbacks=None,\n",
       "              colsample_bylevel=1, colsample_bynode=1, colsample_bytree=0.5,\n",
       "              early_stopping_rounds=70, enable_categorical=False,\n",
       "              eval_metric='auc', gamma=0, gpu_id=-1, grow_policy='depthwise',\n",
       "              importance_type=None, interaction_constraints='',\n",
       "              learning_rate=0.0075, max_bin=4096, max_cat_to_onehot=4,\n",
       "              max_delta_step=0, max_depth=6, max_leaves=17, min_child_weight=1,\n",
       "              missing=nan, monotone_constraints='()', n_estimators=1000,\n",
       "              n_jobs=2, num_parallel_tree=1, objective='reg:pseudohubererror',\n",
       "              predictor='auto', random_state=0, reg_alpha=0.2, ...)"
      ]
     },
     "execution_count": 214,
     "metadata": {},
     "output_type": "execute_result"
    }
   ],
   "source": [
    "# defining an xgboost regressor\n",
    "# regularisation parameters were found through trial and error. can probably be improved\n",
    "xg_reg = xgb.XGBRegressor(\n",
    "            objective='reg:pseudohubererror',\n",
    "            tree_method=\"hist\",\n",
    "            n_estimators=1000,\n",
    "            learning_rate=0.0075,\n",
    "            reg_lambda = 0.3,\n",
    "            reg_alpha = 0.2,\n",
    "            max_leaves = 17,\n",
    "            subsample=0.50,\n",
    "            colsample_bytree=0.50,\n",
    "            max_bin=4096,\n",
    "            n_jobs=2,\n",
    "            eval_metric='auc',\n",
    "            early_stopping_rounds=70,\n",
    "        )\n",
    "xg_reg.fit(x_train,y_train,eval_set=[(x_train,y_train),(x_validation,y_validation)],verbose=200)"
   ]
  },
  {
   "cell_type": "markdown",
   "id": "de09a0b4",
   "metadata": {},
   "source": [
    "## Grid search on XGBoost parameters to try and find better\n"
   ]
  },
  {
   "cell_type": "code",
   "execution_count": 15,
   "id": "a38210d1",
   "metadata": {},
   "outputs": [],
   "source": [
    "cv_params = {'alpha':[0.5,1,1.5]}    # parameters to be tried in the grid search\n",
    "fix_params = {'learning_rate':0.05,'max_depth':6,'max_leaves':20,'tree_method':'hist','n_estimators': 4999,'early_stopping_rounds':70 ,'objective': 'reg:logistic',\n",
    "              'subsample':0.3,'colsample_bytree':0.3,'max_bin':4096,'n_jobs':2,\"eval_metric\":'auc','lambda':0.5}   #other parameters, fixed for the moment \n",
    "csv = GridSearchCV(xgb.XGBRegressor(**fix_params), cv_params, scoring = 'roc_auc', cv = 2)"
   ]
  },
  {
   "cell_type": "code",
   "execution_count": null,
   "id": "bb464869",
   "metadata": {},
   "outputs": [],
   "source": [
    "csv.fit(x_train,y_train,eval_set=[(x_train,y_train),(x_validation,y_validation)],verbose=1000)"
   ]
  },
  {
   "cell_type": "code",
   "execution_count": 216,
   "id": "ade3d534",
   "metadata": {},
   "outputs": [
    {
     "data": {
      "text/plain": [
       "0.8931604813272565"
      ]
     },
     "execution_count": 216,
     "metadata": {},
     "output_type": "execute_result"
    }
   ],
   "source": [
    "csv.best_score_"
   ]
  },
  {
   "cell_type": "code",
   "execution_count": 217,
   "id": "20a10594",
   "metadata": {},
   "outputs": [
    {
     "data": {
      "text/plain": [
       "{'alpha': 1.5}"
      ]
     },
     "execution_count": 217,
     "metadata": {},
     "output_type": "execute_result"
    }
   ],
   "source": [
    "csv.best_params_"
   ]
  },
  {
   "cell_type": "markdown",
   "id": "418cdd5e",
   "metadata": {},
   "source": [
    "## Get the best params found by the grid search in the fix_params"
   ]
  },
  {
   "cell_type": "code",
   "execution_count": 16,
   "id": "27fd9379",
   "metadata": {},
   "outputs": [],
   "source": [
    "fix_params['alpha'] = 1.5\n",
    "#fix_params['objective'] = 'reg:logistic'"
   ]
  },
  {
   "cell_type": "code",
   "execution_count": 22,
   "id": "f67444a5",
   "metadata": {},
   "outputs": [
    {
     "name": "stdout",
     "output_type": "stream",
     "text": [
      "[0]\tvalidation_0-auc:0.69069\tvalidation_1-auc:0.72863\n",
      "[200]\tvalidation_0-auc:0.95392\tvalidation_1-auc:0.90705\n",
      "[217]\tvalidation_0-auc:0.95964\tvalidation_1-auc:0.89506\n"
     ]
    },
    {
     "data": {
      "text/html": [
       "<style>#sk-container-id-3 {color: black;background-color: white;}#sk-container-id-3 pre{padding: 0;}#sk-container-id-3 div.sk-toggleable {background-color: white;}#sk-container-id-3 label.sk-toggleable__label {cursor: pointer;display: block;width: 100%;margin-bottom: 0;padding: 0.3em;box-sizing: border-box;text-align: center;}#sk-container-id-3 label.sk-toggleable__label-arrow:before {content: \"▸\";float: left;margin-right: 0.25em;color: #696969;}#sk-container-id-3 label.sk-toggleable__label-arrow:hover:before {color: black;}#sk-container-id-3 div.sk-estimator:hover label.sk-toggleable__label-arrow:before {color: black;}#sk-container-id-3 div.sk-toggleable__content {max-height: 0;max-width: 0;overflow: hidden;text-align: left;background-color: #f0f8ff;}#sk-container-id-3 div.sk-toggleable__content pre {margin: 0.2em;color: black;border-radius: 0.25em;background-color: #f0f8ff;}#sk-container-id-3 input.sk-toggleable__control:checked~div.sk-toggleable__content {max-height: 200px;max-width: 100%;overflow: auto;}#sk-container-id-3 input.sk-toggleable__control:checked~label.sk-toggleable__label-arrow:before {content: \"▾\";}#sk-container-id-3 div.sk-estimator input.sk-toggleable__control:checked~label.sk-toggleable__label {background-color: #d4ebff;}#sk-container-id-3 div.sk-label input.sk-toggleable__control:checked~label.sk-toggleable__label {background-color: #d4ebff;}#sk-container-id-3 input.sk-hidden--visually {border: 0;clip: rect(1px 1px 1px 1px);clip: rect(1px, 1px, 1px, 1px);height: 1px;margin: -1px;overflow: hidden;padding: 0;position: absolute;width: 1px;}#sk-container-id-3 div.sk-estimator {font-family: monospace;background-color: #f0f8ff;border: 1px dotted black;border-radius: 0.25em;box-sizing: border-box;margin-bottom: 0.5em;}#sk-container-id-3 div.sk-estimator:hover {background-color: #d4ebff;}#sk-container-id-3 div.sk-parallel-item::after {content: \"\";width: 100%;border-bottom: 1px solid gray;flex-grow: 1;}#sk-container-id-3 div.sk-label:hover label.sk-toggleable__label {background-color: #d4ebff;}#sk-container-id-3 div.sk-serial::before {content: \"\";position: absolute;border-left: 1px solid gray;box-sizing: border-box;top: 0;bottom: 0;left: 50%;z-index: 0;}#sk-container-id-3 div.sk-serial {display: flex;flex-direction: column;align-items: center;background-color: white;padding-right: 0.2em;padding-left: 0.2em;position: relative;}#sk-container-id-3 div.sk-item {position: relative;z-index: 1;}#sk-container-id-3 div.sk-parallel {display: flex;align-items: stretch;justify-content: center;background-color: white;position: relative;}#sk-container-id-3 div.sk-item::before, #sk-container-id-3 div.sk-parallel-item::before {content: \"\";position: absolute;border-left: 1px solid gray;box-sizing: border-box;top: 0;bottom: 0;left: 50%;z-index: -1;}#sk-container-id-3 div.sk-parallel-item {display: flex;flex-direction: column;z-index: 1;position: relative;background-color: white;}#sk-container-id-3 div.sk-parallel-item:first-child::after {align-self: flex-end;width: 50%;}#sk-container-id-3 div.sk-parallel-item:last-child::after {align-self: flex-start;width: 50%;}#sk-container-id-3 div.sk-parallel-item:only-child::after {width: 0;}#sk-container-id-3 div.sk-dashed-wrapped {border: 1px dashed gray;margin: 0 0.4em 0.5em 0.4em;box-sizing: border-box;padding-bottom: 0.4em;background-color: white;}#sk-container-id-3 div.sk-label label {font-family: monospace;font-weight: bold;display: inline-block;line-height: 1.2em;}#sk-container-id-3 div.sk-label-container {text-align: center;}#sk-container-id-3 div.sk-container {/* jupyter's `normalize.less` sets `[hidden] { display: none; }` but bootstrap.min.css set `[hidden] { display: none !important; }` so we also need the `!important` here to be able to override the default hidden behavior on the sphinx rendered scikit-learn.org. See: https://github.com/scikit-learn/scikit-learn/issues/21755 */display: inline-block !important;position: relative;}#sk-container-id-3 div.sk-text-repr-fallback {display: none;}</style><div id=\"sk-container-id-3\" class=\"sk-top-container\"><div class=\"sk-text-repr-fallback\"><pre>XGBRegressor(alpha=1.5, base_score=0.5, booster=&#x27;gbtree&#x27;, callbacks=None,\n",
       "             colsample_bylevel=1, colsample_bynode=1, colsample_bytree=0.3,\n",
       "             early_stopping_rounds=70, enable_categorical=False,\n",
       "             eval_metric=&#x27;auc&#x27;, gamma=0, gpu_id=-1, grow_policy=&#x27;depthwise&#x27;,\n",
       "             importance_type=None, interaction_constraints=&#x27;&#x27;, lambda=0.5,\n",
       "             learning_rate=0.05, max_bin=4096, max_cat_to_onehot=4,\n",
       "             max_delta_step=0, max_depth=6, max_leaves=20, min_child_weight=1,\n",
       "             missing=nan, monotone_constraints=&#x27;()&#x27;, n_estimators=4999,\n",
       "             n_jobs=2, num_parallel_tree=1, objective=&#x27;reg:logistic&#x27;,\n",
       "             predictor=&#x27;auto&#x27;, ...)</pre><b>In a Jupyter environment, please rerun this cell to show the HTML representation or trust the notebook. <br />On GitHub, the HTML representation is unable to render, please try loading this page with nbviewer.org.</b></div><div class=\"sk-container\" hidden><div class=\"sk-item\"><div class=\"sk-estimator sk-toggleable\"><input class=\"sk-toggleable__control sk-hidden--visually\" id=\"sk-estimator-id-3\" type=\"checkbox\" checked><label for=\"sk-estimator-id-3\" class=\"sk-toggleable__label sk-toggleable__label-arrow\">XGBRegressor</label><div class=\"sk-toggleable__content\"><pre>XGBRegressor(alpha=1.5, base_score=0.5, booster=&#x27;gbtree&#x27;, callbacks=None,\n",
       "             colsample_bylevel=1, colsample_bynode=1, colsample_bytree=0.3,\n",
       "             early_stopping_rounds=70, enable_categorical=False,\n",
       "             eval_metric=&#x27;auc&#x27;, gamma=0, gpu_id=-1, grow_policy=&#x27;depthwise&#x27;,\n",
       "             importance_type=None, interaction_constraints=&#x27;&#x27;, lambda=0.5,\n",
       "             learning_rate=0.05, max_bin=4096, max_cat_to_onehot=4,\n",
       "             max_delta_step=0, max_depth=6, max_leaves=20, min_child_weight=1,\n",
       "             missing=nan, monotone_constraints=&#x27;()&#x27;, n_estimators=4999,\n",
       "             n_jobs=2, num_parallel_tree=1, objective=&#x27;reg:logistic&#x27;,\n",
       "             predictor=&#x27;auto&#x27;, ...)</pre></div></div></div></div></div>"
      ],
      "text/plain": [
       "XGBRegressor(alpha=1.5, base_score=0.5, booster='gbtree', callbacks=None,\n",
       "             colsample_bylevel=1, colsample_bynode=1, colsample_bytree=0.3,\n",
       "             early_stopping_rounds=70, enable_categorical=False,\n",
       "             eval_metric='auc', gamma=0, gpu_id=-1, grow_policy='depthwise',\n",
       "             importance_type=None, interaction_constraints='', lambda=0.5,\n",
       "             learning_rate=0.05, max_bin=4096, max_cat_to_onehot=4,\n",
       "             max_delta_step=0, max_depth=6, max_leaves=20, min_child_weight=1,\n",
       "             missing=nan, monotone_constraints='()', n_estimators=4999,\n",
       "             n_jobs=2, num_parallel_tree=1, objective='reg:logistic',\n",
       "             predictor='auto', ...)"
      ]
     },
     "execution_count": 22,
     "metadata": {},
     "output_type": "execute_result"
    }
   ],
   "source": [
    "params_final = fix_params\n",
    "\n",
    "xg_reg = xgb.XGBRegressor(**params_final)\n",
    "xg_reg.fit(x_train,y_train,eval_set=[(x_train,y_train),(x_validation,y_validation)],verbose=200)"
   ]
  },
  {
   "cell_type": "code",
   "execution_count": 18,
   "id": "c0824a12",
   "metadata": {},
   "outputs": [
    {
     "data": {
      "image/png": "[encoded data removed]",
      "text/plain": [
       "<Figure size 720x360 with 1 Axes>"
      ]
     },
     "metadata": {
      "needs_background": "light"
     },
     "output_type": "display_data"
    }
   ],
   "source": [
    "fi =pd.DataFrame(data=xg_reg.feature_importances_,index=xg_reg.feature_names_in_,columns=['FeatureImportance']).sort_values(by='FeatureImportance',ascending=False)\n",
    "fi.plot.bar(title='Feature Importance',figsize=(10,5))\n",
    "plt.show()"
   ]
  },
  {
   "cell_type": "markdown",
   "id": "a8950a62",
   "metadata": {},
   "source": [
    "## LGBM model"
   ]
  },
  {
   "cell_type": "code",
   "execution_count": 31,
   "id": "0aebc244",
   "metadata": {},
   "outputs": [],
   "source": [
    "# random params but feel free to tune\n",
    "lgbm_params = {'n_estimators': 500,\n",
    "                 'num_rounds': 274,\n",
    "                 'learning_rate': 0.05,\n",
    "                 'num_leaves': 195,\n",
    "                 'max_depth': 9,\n",
    "                 'min_data_in_leaf': 46,\n",
    "                 'lambda_l2': 0.6,\n",
    "                 'bagging_fraction': 0.45,\n",
    "                 'feature_fraction': 0.3,\n",
    "                 'eval_metric':'auc'}"
   ]
  },
  {
   "cell_type": "code",
   "execution_count": 38,
   "id": "9d16a4f0",
   "metadata": {},
   "outputs": [
    {
     "name": "stderr",
     "output_type": "stream",
     "text": [
      "/opt/homebrew/Caskroom/miniforge/base/envs/torch-gpu/lib/python3.10/site-packages/lightgbm/sklearn.py:736: UserWarning: 'verbose' argument is deprecated and will be removed in a future release of LightGBM. Pass 'log_evaluation()' callback via 'callbacks' argument instead.\n",
      "  _log_warning(\"'verbose' argument is deprecated and will be removed in a future release of LightGBM. \"\n",
      "/opt/homebrew/Caskroom/miniforge/base/envs/torch-gpu/lib/python3.10/site-packages/lightgbm/engine.py:177: UserWarning: Found `num_rounds` in params. Will use it instead of argument\n",
      "  _log_warning(f\"Found `{alias}` in params. Will use it instead of argument\")\n"
     ]
    },
    {
     "name": "stdout",
     "output_type": "stream",
     "text": [
      "[100]\ttraining's l2: 0.00105435\tvalid_1's l2: 0.00113892\n",
      "[200]\ttraining's l2: 0.000964885\tvalid_1's l2: 0.00111592\n"
     ]
    },
    {
     "data": {
      "text/html": [
       "<style>#sk-container-id-8 {color: black;background-color: white;}#sk-container-id-8 pre{padding: 0;}#sk-container-id-8 div.sk-toggleable {background-color: white;}#sk-container-id-8 label.sk-toggleable__label {cursor: pointer;display: block;width: 100%;margin-bottom: 0;padding: 0.3em;box-sizing: border-box;text-align: center;}#sk-container-id-8 label.sk-toggleable__label-arrow:before {content: \"▸\";float: left;margin-right: 0.25em;color: #696969;}#sk-container-id-8 label.sk-toggleable__label-arrow:hover:before {color: black;}#sk-container-id-8 div.sk-estimator:hover label.sk-toggleable__label-arrow:before {color: black;}#sk-container-id-8 div.sk-toggleable__content {max-height: 0;max-width: 0;overflow: hidden;text-align: left;background-color: #f0f8ff;}#sk-container-id-8 div.sk-toggleable__content pre {margin: 0.2em;color: black;border-radius: 0.25em;background-color: #f0f8ff;}#sk-container-id-8 input.sk-toggleable__control:checked~div.sk-toggleable__content {max-height: 200px;max-width: 100%;overflow: auto;}#sk-container-id-8 input.sk-toggleable__control:checked~label.sk-toggleable__label-arrow:before {content: \"▾\";}#sk-container-id-8 div.sk-estimator input.sk-toggleable__control:checked~label.sk-toggleable__label {background-color: #d4ebff;}#sk-container-id-8 div.sk-label input.sk-toggleable__control:checked~label.sk-toggleable__label {background-color: #d4ebff;}#sk-container-id-8 input.sk-hidden--visually {border: 0;clip: rect(1px 1px 1px 1px);clip: rect(1px, 1px, 1px, 1px);height: 1px;margin: -1px;overflow: hidden;padding: 0;position: absolute;width: 1px;}#sk-container-id-8 div.sk-estimator {font-family: monospace;background-color: #f0f8ff;border: 1px dotted black;border-radius: 0.25em;box-sizing: border-box;margin-bottom: 0.5em;}#sk-container-id-8 div.sk-estimator:hover {background-color: #d4ebff;}#sk-container-id-8 div.sk-parallel-item::after {content: \"\";width: 100%;border-bottom: 1px solid gray;flex-grow: 1;}#sk-container-id-8 div.sk-label:hover label.sk-toggleable__label {background-color: #d4ebff;}#sk-container-id-8 div.sk-serial::before {content: \"\";position: absolute;border-left: 1px solid gray;box-sizing: border-box;top: 0;bottom: 0;left: 50%;z-index: 0;}#sk-container-id-8 div.sk-serial {display: flex;flex-direction: column;align-items: center;background-color: white;padding-right: 0.2em;padding-left: 0.2em;position: relative;}#sk-container-id-8 div.sk-item {position: relative;z-index: 1;}#sk-container-id-8 div.sk-parallel {display: flex;align-items: stretch;justify-content: center;background-color: white;position: relative;}#sk-container-id-8 div.sk-item::before, #sk-container-id-8 div.sk-parallel-item::before {content: \"\";position: absolute;border-left: 1px solid gray;box-sizing: border-box;top: 0;bottom: 0;left: 50%;z-index: -1;}#sk-container-id-8 div.sk-parallel-item {display: flex;flex-direction: column;z-index: 1;position: relative;background-color: white;}#sk-container-id-8 div.sk-parallel-item:first-child::after {align-self: flex-end;width: 50%;}#sk-container-id-8 div.sk-parallel-item:last-child::after {align-self: flex-start;width: 50%;}#sk-container-id-8 div.sk-parallel-item:only-child::after {width: 0;}#sk-container-id-8 div.sk-dashed-wrapped {border: 1px dashed gray;margin: 0 0.4em 0.5em 0.4em;box-sizing: border-box;padding-bottom: 0.4em;background-color: white;}#sk-container-id-8 div.sk-label label {font-family: monospace;font-weight: bold;display: inline-block;line-height: 1.2em;}#sk-container-id-8 div.sk-label-container {text-align: center;}#sk-container-id-8 div.sk-container {/* jupyter's `normalize.less` sets `[hidden] { display: none; }` but bootstrap.min.css set `[hidden] { display: none !important; }` so we also need the `!important` here to be able to override the default hidden behavior on the sphinx rendered scikit-learn.org. See: https://github.com/scikit-learn/scikit-learn/issues/21755 */display: inline-block !important;position: relative;}#sk-container-id-8 div.sk-text-repr-fallback {display: none;}</style><div id=\"sk-container-id-8\" class=\"sk-top-container\"><div class=\"sk-text-repr-fallback\"><pre>LGBMRegressor(bagging_fraction=0.45, eval_metric=&#x27;auc&#x27;, feature_fraction=0.3,\n",
       "              lambda_l2=0.6, learning_rate=0.05, max_depth=9,\n",
       "              min_data_in_leaf=46, n_estimators=500, num_leaves=195,\n",
       "              num_rounds=274)</pre><b>In a Jupyter environment, please rerun this cell to show the HTML representation or trust the notebook. <br />On GitHub, the HTML representation is unable to render, please try loading this page with nbviewer.org.</b></div><div class=\"sk-container\" hidden><div class=\"sk-item\"><div class=\"sk-estimator sk-toggleable\"><input class=\"sk-toggleable__control sk-hidden--visually\" id=\"sk-estimator-id-8\" type=\"checkbox\" checked><label for=\"sk-estimator-id-8\" class=\"sk-toggleable__label sk-toggleable__label-arrow\">LGBMRegressor</label><div class=\"sk-toggleable__content\"><pre>LGBMRegressor(bagging_fraction=0.45, eval_metric=&#x27;auc&#x27;, feature_fraction=0.3,\n",
       "              lambda_l2=0.6, learning_rate=0.05, max_depth=9,\n",
       "              min_data_in_leaf=46, n_estimators=500, num_leaves=195,\n",
       "              num_rounds=274)</pre></div></div></div></div></div>"
      ],
      "text/plain": [
       "LGBMRegressor(bagging_fraction=0.45, eval_metric='auc', feature_fraction=0.3,\n",
       "              lambda_l2=0.6, learning_rate=0.05, max_depth=9,\n",
       "              min_data_in_leaf=46, n_estimators=500, num_leaves=195,\n",
       "              num_rounds=274)"
      ]
     },
     "execution_count": 38,
     "metadata": {},
     "output_type": "execute_result"
    }
   ],
   "source": [
    "lgbm_reg = lgbm.LGBMRegressor(**lgbm_params)\n",
    "\n",
    "# cross_validate(X_train, y, lgbm_clf)\n",
    "\n",
    "lgbm_reg.fit(x_train, y_train, verbose=100,eval_set=[(x_train,y_train),(x_validation,y_validation)])"
   ]
  },
  {
   "cell_type": "markdown",
   "id": "f8534156",
   "metadata": {},
   "source": [
    "## CatBoost"
   ]
  },
  {
   "cell_type": "code",
   "execution_count": 52,
   "id": "ddeec81d",
   "metadata": {},
   "outputs": [
    {
     "name": "stdout",
     "output_type": "stream",
     "text": [
      "0:\ttest: 0.5024455\ttest1: 0.5190688\tbest: 0.5190688 (0)\ttotal: 31.1ms\tremaining: 31s\n",
      "200:\ttest: 0.8711296\ttest1: 0.8764149\tbest: 0.8769906 (193)\ttotal: 3.76s\tremaining: 14.9s\n",
      "400:\ttest: 0.8827910\ttest1: 0.8829344\tbest: 0.8831663 (322)\ttotal: 7.06s\tremaining: 10.5s\n",
      "600:\ttest: 0.8894172\ttest1: 0.8840966\tbest: 0.8862927 (495)\ttotal: 10.3s\tremaining: 6.87s\n",
      "800:\ttest: 0.8950311\ttest1: 0.8945829\tbest: 0.8947046 (794)\ttotal: 13.6s\tremaining: 3.38s\n",
      "999:\ttest: 0.8986025\ttest1: 0.8975759\tbest: 0.8985103 (928)\ttotal: 16.9s\tremaining: 0us\n",
      "\n",
      "bestTest = 0.8985102953\n",
      "bestIteration = 928\n",
      "\n",
      "Shrink model to first 929 iterations.\n"
     ]
    },
    {
     "data": {
      "text/plain": [
       "<catboost.core.CatBoostRegressor at 0x2cf5871c0>"
      ]
     },
     "execution_count": 52,
     "metadata": {},
     "output_type": "execute_result"
    }
   ],
   "source": [
    "catboost_params = {'loss_function': 'Poisson',\n",
    "                     'learning_rate': 0.05,\n",
    "                     'colsample_bylevel': 0.06,\n",
    "                     'depth': 1,\n",
    "                     'boosting_type': 'Plain',\n",
    "                     'bootstrap_type': 'Bernoulli',\n",
    "                     'min_data_in_leaf': 18,\n",
    "                     'one_hot_max_size': 14,\n",
    "                     'subsample': 0.8,\n",
    "                    'eval_metric':'AUC'}\n",
    "\n",
    "catboost_reg = catboost.CatBoostRegressor(**catboost_params)\n",
    "\n",
    "# cross_validate(X_train, y, catboost_clf)\n",
    "\n",
    "catboost_reg.fit(x_train, y_train,eval_set=[(x_train,y_train),(x_validation,y_validation)], verbose=200)"
   ]
  },
  {
   "cell_type": "code",
   "execution_count": null,
   "id": "a3e9520e",
   "metadata": {},
   "outputs": [],
   "source": []
  },
  {
   "cell_type": "code",
   "execution_count": null,
   "id": "b49276b3",
   "metadata": {},
   "outputs": [],
   "source": []
  },
  {
   "cell_type": "markdown",
   "id": "4da3752a",
   "metadata": {},
   "source": [
    "## Get a prediction"
   ]
  },
  {
   "cell_type": "code",
   "execution_count": 229,
   "id": "77354ad5",
   "metadata": {},
   "outputs": [],
   "source": [
    "sample_submission = pd.read_csv('sample_submission.csv')"
   ]
  },
  {
   "cell_type": "code",
   "execution_count": 53,
   "id": "c71606b5",
   "metadata": {},
   "outputs": [],
   "source": [
    "test = pd.read_csv('test.csv')"
   ]
  },
  {
   "cell_type": "code",
   "execution_count": 231,
   "id": "057ce990",
   "metadata": {},
   "outputs": [],
   "source": [
    "predictions = xg_reg.predict(test[features])"
   ]
  },
  {
   "cell_type": "code",
   "execution_count": 54,
   "id": "1086efd0",
   "metadata": {},
   "outputs": [],
   "source": [
    "# Prediction ensembling the 3 models\n",
    "xgb_preds = xg_reg.predict(test[features])\n",
    "#lgbm_preds = lgbm_reg.predict(test[features])\n",
    "cat_preds = catboost_reg.predict(test[features])\n",
    "predictions = np.column_stack([cat_preds]).mean(axis=1)"
   ]
  },
  {
   "cell_type": "code",
   "execution_count": 55,
   "id": "bda9ecc7",
   "metadata": {},
   "outputs": [],
   "source": [
    "submission = test[['id']].copy()\n",
    "submission['Class'] = predictions"
   ]
  },
  {
   "cell_type": "code",
   "execution_count": 56,
   "id": "4ba20c00",
   "metadata": {},
   "outputs": [],
   "source": [
    "submission.to_csv('MySubmission_W_OG_Data_CatBoost.csv',index=None)"
   ]
  },
  {
   "cell_type": "code",
   "execution_count": 234,
   "id": "3899e0b2",
   "metadata": {},
   "outputs": [],
   "source": [
    "#Logisitic is better\n",
    "#Classifier is terrible"
   ]
  },
  {
   "cell_type": "code",
   "execution_count": null,
   "id": "11a8176f",
   "metadata": {},
   "outputs": [],
   "source": []
  }
 ],
 "metadata": {
  "kernelspec": {
   "display_name": "torch-gpu",
   "language": "python",
   "name": "torch-gpu"
  },
  "language_info": {
   "codemirror_mode": {
    "name": "ipython",
    "version": 3
   },
   "file_extension": ".py",
   "mimetype": "text/x-python",
   "name": "python",
   "nbconvert_exporter": "python",
   "pygments_lexer": "ipython3",
   "version": "3.10.6"
  }
 },
 "nbformat": 4,
 "nbformat_minor": 5
}
